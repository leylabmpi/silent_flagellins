{
 "cells": [
  {
   "cell_type": "markdown",
   "metadata": {
    "toc": true
   },
   "source": [
    "<h1>Table of Contents<span class=\"tocSkip\"></span></h1>\n",
    "<div class=\"toc\"><ul class=\"toc-item\"><li><span><a href=\"#Goal\" data-toc-modified-id=\"Goal-1\"><span class=\"toc-item-num\">1&nbsp;&nbsp;</span>Goal</a></span></li><li><span><a href=\"#Var\" data-toc-modified-id=\"Var-2\"><span class=\"toc-item-num\">2&nbsp;&nbsp;</span>Var</a></span></li><li><span><a href=\"#Init\" data-toc-modified-id=\"Init-3\"><span class=\"toc-item-num\">3&nbsp;&nbsp;</span>Init</a></span></li><li><span><a href=\"#Load\" data-toc-modified-id=\"Load-4\"><span class=\"toc-item-num\">4&nbsp;&nbsp;</span>Load</a></span></li><li><span><a href=\"#LLCOMP\" data-toc-modified-id=\"LLCOMP-5\"><span class=\"toc-item-num\">5&nbsp;&nbsp;</span>LLCOMP</a></span><ul class=\"toc-item\"><li><ul class=\"toc-item\"><li><span><a href=\"#Config\" data-toc-modified-id=\"Config-5.0.1\"><span class=\"toc-item-num\">5.0.1&nbsp;&nbsp;</span>Config</a></span></li><li><span><a href=\"#Run\" data-toc-modified-id=\"Run-5.0.2\"><span class=\"toc-item-num\">5.0.2&nbsp;&nbsp;</span>Run</a></span></li></ul></li><li><span><a href=\"#LLMGP\" data-toc-modified-id=\"LLMGP-5.1\"><span class=\"toc-item-num\">5.1&nbsp;&nbsp;</span>LLMGP</a></span><ul class=\"toc-item\"><li><span><a href=\"#Config\" data-toc-modified-id=\"Config-5.1.1\"><span class=\"toc-item-num\">5.1.1&nbsp;&nbsp;</span>Config</a></span></li><li><span><a href=\"#Run\" data-toc-modified-id=\"Run-5.1.2\"><span class=\"toc-item-num\">5.1.2&nbsp;&nbsp;</span>Run</a></span></li><li><span><a href=\"#Summary\" data-toc-modified-id=\"Summary-5.1.3\"><span class=\"toc-item-num\">5.1.3&nbsp;&nbsp;</span>Summary</a></span></li></ul></li></ul></li><li><span><a href=\"#sessionInfo\" data-toc-modified-id=\"sessionInfo-6\"><span class=\"toc-item-num\">6&nbsp;&nbsp;</span>sessionInfo</a></span></li></ul></div>"
   ]
  },
  {
   "cell_type": "markdown",
   "metadata": {},
   "source": [
    "# Goal\n",
    "\n",
    "* Re-profile the curatedMetagenomics dataset with the GTDB-r202 Struo2 mg-profiling databases"
   ]
  },
  {
   "cell_type": "markdown",
   "metadata": {},
   "source": [
    "# Var"
   ]
  },
  {
   "cell_type": "code",
   "execution_count": 25,
   "metadata": {
    "ExecuteTime": {
     "end_time": "2021-07-29T06:17:53.252870Z",
     "start_time": "2021-07-29T06:17:53.206Z"
    }
   },
   "outputs": [],
   "source": [
    "base_dir = '/ebio/abt3_projects/databases_no-backup/curatedMetagenomicData/global_metagenomes/'\n",
    "work_dir = file.path(base_dir, 'combined_GTDBr202')\n",
    "reads_dir = file.path(base_dir, 'LLMGQC')\n",
    "scratch_dir = '/ebio/abt3_scratch/nyoungblut/curatedMetagenomics/'\n",
    "\n",
    "data_dir = '/ebio/abt3_projects/databases_no-backup/curatedMetagenomicData/global_metagenomes/combined_GTDBr86/profiles/kraken/'\n",
    "meta_file = file.path(data_dir, 'Global_metagenomes_Metadata.csv')"
   ]
  },
  {
   "cell_type": "markdown",
   "metadata": {},
   "source": [
    "# Init"
   ]
  },
  {
   "cell_type": "code",
   "execution_count": 3,
   "metadata": {
    "ExecuteTime": {
     "end_time": "2021-07-26T17:50:52.700463Z",
     "start_time": "2021-07-26T17:50:52.648Z"
    }
   },
   "outputs": [],
   "source": [
    "library(dplyr)\n",
    "library(tidyr)\n",
    "library(ggplot2)\n",
    "library(data.table)\n",
    "library(tidytable)\n",
    "library(LeyLabRMisc)"
   ]
  },
  {
   "cell_type": "code",
   "execution_count": 4,
   "metadata": {
    "ExecuteTime": {
     "end_time": "2021-07-26T17:50:54.496889Z",
     "start_time": "2021-07-26T17:50:54.455Z"
    }
   },
   "outputs": [],
   "source": [
    "df.dims()\n",
    "setDTthreads(4)"
   ]
  },
  {
   "cell_type": "markdown",
   "metadata": {},
   "source": [
    "# Load"
   ]
  },
  {
   "cell_type": "code",
   "execution_count": 50,
   "metadata": {
    "ExecuteTime": {
     "end_time": "2021-07-29T06:32:26.489074Z",
     "start_time": "2021-07-29T06:32:26.203Z"
    }
   },
   "outputs": [
    {
     "data": {
      "text/html": [
       "<table class=\"dataframe\">\n",
       "<caption>A tidytable: 3469 × 35</caption>\n",
       "<thead>\n",
       "\t<tr><th scope=col>dataset_name</th><th scope=col>Sample</th><th scope=col>subjectID</th><th scope=col>disease</th><th scope=col>age</th><th scope=col>gender</th><th scope=col>country</th><th scope=col>BMI</th><th scope=col>alcohol</th><th scope=col>disease_subtype</th><th scope=col>⋯</th><th scope=col>systolic_p</th><th scope=col>creatine</th><th scope=col>albumine</th><th scope=col>bilubirin</th><th scope=col>smoker</th><th scope=col>ever_smoker</th><th scope=col>birth_control_pil</th><th scope=col>c_peptide</th><th scope=col>insulin_cat</th><th scope=col>westernized</th></tr>\n",
       "\t<tr><th scope=col>&lt;chr&gt;</th><th scope=col>&lt;chr&gt;</th><th scope=col>&lt;chr&gt;</th><th scope=col>&lt;chr&gt;</th><th scope=col>&lt;int&gt;</th><th scope=col>&lt;chr&gt;</th><th scope=col>&lt;chr&gt;</th><th scope=col>&lt;dbl&gt;</th><th scope=col>&lt;chr&gt;</th><th scope=col>&lt;chr&gt;</th><th scope=col>⋯</th><th scope=col>&lt;int&gt;</th><th scope=col>&lt;int&gt;</th><th scope=col>&lt;dbl&gt;</th><th scope=col>&lt;dbl&gt;</th><th scope=col>&lt;chr&gt;</th><th scope=col>&lt;chr&gt;</th><th scope=col>&lt;chr&gt;</th><th scope=col>&lt;dbl&gt;</th><th scope=col>&lt;chr&gt;</th><th scope=col>&lt;lgl&gt;</th></tr>\n",
       "</thead>\n",
       "<tbody>\n",
       "\t<tr><td>AsnicarF_2017</td><td>MV_FEM1_t1Q14</td><td>MV_FEM1</td><td>healthy</td><td>NA</td><td>female</td><td>ITA</td><td>NA</td><td>NA</td><td>NA</td><td>⋯</td><td>NA</td><td>NA</td><td>NA</td><td>NA</td><td>NA</td><td>NA</td><td>NA</td><td>NA</td><td>NA</td><td>TRUE</td></tr>\n",
       "\t<tr><td>AsnicarF_2017</td><td>MV_FEM2_t1Q14</td><td>MV_FEM2</td><td>healthy</td><td>NA</td><td>female</td><td>ITA</td><td>NA</td><td>NA</td><td>NA</td><td>⋯</td><td>NA</td><td>NA</td><td>NA</td><td>NA</td><td>NA</td><td>NA</td><td>NA</td><td>NA</td><td>NA</td><td>TRUE</td></tr>\n",
       "\t<tr><td>⋮</td><td>⋮</td><td>⋮</td><td>⋮</td><td>⋮</td><td>⋮</td><td>⋮</td><td>⋮</td><td>⋮</td><td>⋮</td><td>⋱</td><td>⋮</td><td>⋮</td><td>⋮</td><td>⋮</td><td>⋮</td><td>⋮</td><td>⋮</td><td>⋮</td><td>⋮</td><td>⋮</td></tr>\n",
       "\t<tr><td>ZeeviD_2015</td><td>PNP_Validation_45</td><td>PNP_Validation_45</td><td>healthy</td><td>NA</td><td>NA</td><td>ISR</td><td>NA</td><td>NA</td><td>NA</td><td>⋯</td><td>NA</td><td>NA</td><td>NA</td><td>NA</td><td>NA</td><td>NA</td><td>NA</td><td>NA</td><td>NA</td><td>TRUE</td></tr>\n",
       "\t<tr><td>ZeeviD_2015</td><td>PNP_Validation_46</td><td>PNP_Validation_46</td><td>healthy</td><td>NA</td><td>NA</td><td>ISR</td><td>NA</td><td>NA</td><td>NA</td><td>⋯</td><td>NA</td><td>NA</td><td>NA</td><td>NA</td><td>NA</td><td>NA</td><td>NA</td><td>NA</td><td>NA</td><td>TRUE</td></tr>\n",
       "</tbody>\n",
       "</table>\n"
      ],
      "text/latex": [
       "A tidytable: 3469 × 35\n",
       "\\begin{tabular}{lllllllllllllllllllll}\n",
       " dataset\\_name & Sample & subjectID & disease & age & gender & country & BMI & alcohol & disease\\_subtype & ⋯ & systolic\\_p & creatine & albumine & bilubirin & smoker & ever\\_smoker & birth\\_control\\_pil & c\\_peptide & insulin\\_cat & westernized\\\\\n",
       " <chr> & <chr> & <chr> & <chr> & <int> & <chr> & <chr> & <dbl> & <chr> & <chr> & ⋯ & <int> & <int> & <dbl> & <dbl> & <chr> & <chr> & <chr> & <dbl> & <chr> & <lgl>\\\\\n",
       "\\hline\n",
       "\t AsnicarF\\_2017 & MV\\_FEM1\\_t1Q14 & MV\\_FEM1 & healthy & NA & female & ITA & NA & NA & NA & ⋯ & NA & NA & NA & NA & NA & NA & NA & NA & NA & TRUE\\\\\n",
       "\t AsnicarF\\_2017 & MV\\_FEM2\\_t1Q14 & MV\\_FEM2 & healthy & NA & female & ITA & NA & NA & NA & ⋯ & NA & NA & NA & NA & NA & NA & NA & NA & NA & TRUE\\\\\n",
       "\t ⋮ & ⋮ & ⋮ & ⋮ & ⋮ & ⋮ & ⋮ & ⋮ & ⋮ & ⋮ & ⋱ & ⋮ & ⋮ & ⋮ & ⋮ & ⋮ & ⋮ & ⋮ & ⋮ & ⋮ & ⋮\\\\\n",
       "\t ZeeviD\\_2015 & PNP\\_Validation\\_45 & PNP\\_Validation\\_45 & healthy & NA & NA & ISR & NA & NA & NA & ⋯ & NA & NA & NA & NA & NA & NA & NA & NA & NA & TRUE\\\\\n",
       "\t ZeeviD\\_2015 & PNP\\_Validation\\_46 & PNP\\_Validation\\_46 & healthy & NA & NA & ISR & NA & NA & NA & ⋯ & NA & NA & NA & NA & NA & NA & NA & NA & NA & TRUE\\\\\n",
       "\\end{tabular}\n"
      ],
      "text/markdown": [
       "\n",
       "A tidytable: 3469 × 35\n",
       "\n",
       "| dataset_name &lt;chr&gt; | Sample &lt;chr&gt; | subjectID &lt;chr&gt; | disease &lt;chr&gt; | age &lt;int&gt; | gender &lt;chr&gt; | country &lt;chr&gt; | BMI &lt;dbl&gt; | alcohol &lt;chr&gt; | disease_subtype &lt;chr&gt; | ⋯ ⋯ | systolic_p &lt;int&gt; | creatine &lt;int&gt; | albumine &lt;dbl&gt; | bilubirin &lt;dbl&gt; | smoker &lt;chr&gt; | ever_smoker &lt;chr&gt; | birth_control_pil &lt;chr&gt; | c_peptide &lt;dbl&gt; | insulin_cat &lt;chr&gt; | westernized &lt;lgl&gt; |\n",
       "|---|---|---|---|---|---|---|---|---|---|---|---|---|---|---|---|---|---|---|---|---|\n",
       "| AsnicarF_2017 | MV_FEM1_t1Q14 | MV_FEM1 | healthy | NA | female | ITA | NA | NA | NA | ⋯ | NA | NA | NA | NA | NA | NA | NA | NA | NA | TRUE |\n",
       "| AsnicarF_2017 | MV_FEM2_t1Q14 | MV_FEM2 | healthy | NA | female | ITA | NA | NA | NA | ⋯ | NA | NA | NA | NA | NA | NA | NA | NA | NA | TRUE |\n",
       "| ⋮ | ⋮ | ⋮ | ⋮ | ⋮ | ⋮ | ⋮ | ⋮ | ⋮ | ⋮ | ⋱ | ⋮ | ⋮ | ⋮ | ⋮ | ⋮ | ⋮ | ⋮ | ⋮ | ⋮ | ⋮ |\n",
       "| ZeeviD_2015 | PNP_Validation_45 | PNP_Validation_45 | healthy | NA | NA | ISR | NA | NA | NA | ⋯ | NA | NA | NA | NA | NA | NA | NA | NA | NA | TRUE |\n",
       "| ZeeviD_2015 | PNP_Validation_46 | PNP_Validation_46 | healthy | NA | NA | ISR | NA | NA | NA | ⋯ | NA | NA | NA | NA | NA | NA | NA | NA | NA | TRUE |\n",
       "\n"
      ],
      "text/plain": [
       "     dataset_name  Sample            subjectID         disease age gender\n",
       "1    AsnicarF_2017 MV_FEM1_t1Q14     MV_FEM1           healthy NA  female\n",
       "2    AsnicarF_2017 MV_FEM2_t1Q14     MV_FEM2           healthy NA  female\n",
       "⋮    ⋮             ⋮                 ⋮                 ⋮       ⋮   ⋮     \n",
       "3468 ZeeviD_2015   PNP_Validation_45 PNP_Validation_45 healthy NA  NA    \n",
       "3469 ZeeviD_2015   PNP_Validation_46 PNP_Validation_46 healthy NA  NA    \n",
       "     country BMI alcohol disease_subtype ⋯ systolic_p creatine albumine\n",
       "1    ITA     NA  NA      NA              ⋯ NA         NA       NA      \n",
       "2    ITA     NA  NA      NA              ⋯ NA         NA       NA      \n",
       "⋮    ⋮       ⋮   ⋮       ⋮               ⋱ ⋮          ⋮        ⋮       \n",
       "3468 ISR     NA  NA      NA              ⋯ NA         NA       NA      \n",
       "3469 ISR     NA  NA      NA              ⋯ NA         NA       NA      \n",
       "     bilubirin smoker ever_smoker birth_control_pil c_peptide insulin_cat\n",
       "1    NA        NA     NA          NA                NA        NA         \n",
       "2    NA        NA     NA          NA                NA        NA         \n",
       "⋮    ⋮         ⋮      ⋮           ⋮                 ⋮         ⋮          \n",
       "3468 NA        NA     NA          NA                NA        NA         \n",
       "3469 NA        NA     NA          NA                NA        NA         \n",
       "     westernized\n",
       "1    TRUE       \n",
       "2    TRUE       \n",
       "⋮    ⋮          \n",
       "3468 TRUE       \n",
       "3469 TRUE       "
      ]
     },
     "metadata": {},
     "output_type": "display_data"
    }
   ],
   "source": [
    "# sample metadata\n",
    "meta = Fread(meta_file) %>%\n",
    "    mutate.(Sample = gsub('[.+-]+', '_', Sample)) %>%\n",
    "    filter.(!is.na(non_westernized)) %>%\n",
    "    mutate.(westernized = non_westernized == 'no') %>%\n",
    "    select.(-non_westernized)\n",
    "meta"
   ]
  },
  {
   "cell_type": "markdown",
   "metadata": {},
   "source": [
    "# LLCOMP\n",
    "\n",
    "* uncompress read files"
   ]
  },
  {
   "cell_type": "code",
   "execution_count": 7,
   "metadata": {
    "ExecuteTime": {
     "end_time": "2021-07-26T17:53:24.784654Z",
     "start_time": "2021-07-26T17:52:35.473Z"
    }
   },
   "outputs": [
    {
     "name": "stdout",
     "output_type": "stream",
     "text": [
      "No. of unique files: 33 \n"
     ]
    },
    {
     "data": {
      "text/html": [
       "<style>\n",
       ".list-inline {list-style: none; margin:0; padding: 0}\n",
       ".list-inline>li {display: inline-block}\n",
       ".list-inline>li:not(:last-child)::after {content: \"\\00b7\"; padding: 0 .5ex}\n",
       "</style>\n",
       "<ol class=list-inline><li>'/ebio/abt3_projects/databases_no-backup/curatedMetagenomicData/global_metagenomes//LLMGQC/01_CosteaPI_2017/final/samples_spring.txt'</li><li>'/ebio/abt3_projects/databases_no-backup/curatedMetagenomicData/global_metagenomes//LLMGQC/02_Obregon-TitoAJ_2015/final/samples_spring.txt'</li><li>'/ebio/abt3_projects/databases_no-backup/curatedMetagenomicData/global_metagenomes//LLMGQC/03_PasolliE_2018/final/samples_spring.txt'</li></ol>\n"
      ],
      "text/latex": [
       "\\begin{enumerate*}\n",
       "\\item '/ebio/abt3\\_projects/databases\\_no-backup/curatedMetagenomicData/global\\_metagenomes//LLMGQC/01\\_CosteaPI\\_2017/final/samples\\_spring.txt'\n",
       "\\item '/ebio/abt3\\_projects/databases\\_no-backup/curatedMetagenomicData/global\\_metagenomes//LLMGQC/02\\_Obregon-TitoAJ\\_2015/final/samples\\_spring.txt'\n",
       "\\item '/ebio/abt3\\_projects/databases\\_no-backup/curatedMetagenomicData/global\\_metagenomes//LLMGQC/03\\_PasolliE\\_2018/final/samples\\_spring.txt'\n",
       "\\end{enumerate*}\n"
      ],
      "text/markdown": [
       "1. '/ebio/abt3_projects/databases_no-backup/curatedMetagenomicData/global_metagenomes//LLMGQC/01_CosteaPI_2017/final/samples_spring.txt'\n",
       "2. '/ebio/abt3_projects/databases_no-backup/curatedMetagenomicData/global_metagenomes//LLMGQC/02_Obregon-TitoAJ_2015/final/samples_spring.txt'\n",
       "3. '/ebio/abt3_projects/databases_no-backup/curatedMetagenomicData/global_metagenomes//LLMGQC/03_PasolliE_2018/final/samples_spring.txt'\n",
       "\n",
       "\n"
      ],
      "text/plain": [
       "[1] \"/ebio/abt3_projects/databases_no-backup/curatedMetagenomicData/global_metagenomes//LLMGQC/01_CosteaPI_2017/final/samples_spring.txt\"      \n",
       "[2] \"/ebio/abt3_projects/databases_no-backup/curatedMetagenomicData/global_metagenomes//LLMGQC/02_Obregon-TitoAJ_2015/final/samples_spring.txt\"\n",
       "[3] \"/ebio/abt3_projects/databases_no-backup/curatedMetagenomicData/global_metagenomes//LLMGQC/03_PasolliE_2018/final/samples_spring.txt\"      "
      ]
     },
     "metadata": {},
     "output_type": "display_data"
    }
   ],
   "source": [
    "# compressed read files\n",
    "spring_files = list_files(reads_dir, 'samples_spring.txt')\n",
    "spring_files %>% unique_n('files')\n",
    "spring_files %>% head(n=3)"
   ]
  },
  {
   "cell_type": "code",
   "execution_count": 12,
   "metadata": {
    "ExecuteTime": {
     "end_time": "2021-07-26T17:55:59.826230Z",
     "start_time": "2021-07-26T17:55:59.092Z"
    }
   },
   "outputs": [
    {
     "data": {
      "text/html": [
       "<table class=\"dataframe\">\n",
       "<caption>A tidytable: 3360 × 3</caption>\n",
       "<thead>\n",
       "\t<tr><th scope=col>Sample</th><th scope=col>Reads</th><th scope=col>Dataset</th></tr>\n",
       "\t<tr><th scope=col>&lt;chr&gt;</th><th scope=col>&lt;chr&gt;</th><th scope=col>&lt;chr&gt;</th></tr>\n",
       "</thead>\n",
       "<tbody>\n",
       "\t<tr><td>halbarad-11-0-0  </td><td>/ebio/abt3_projects/databases_no-backup/curatedMetagenomicData/global_metagenomes/LLMGQC/01_CosteaPI_2017/final/halbarad-11-0-0/R1_final.spring  </td><td>01_CosteaPI_2017</td></tr>\n",
       "\t<tr><td>scavenger-11-60-0</td><td>/ebio/abt3_projects/databases_no-backup/curatedMetagenomicData/global_metagenomes/LLMGQC/01_CosteaPI_2017/final/scavenger-11-60-0/R1_final.spring</td><td>01_CosteaPI_2017</td></tr>\n",
       "\t<tr><td>⋮</td><td>⋮</td><td>⋮</td></tr>\n",
       "\t<tr><td>SZAXPI017591-140</td><td>/ebio/abt3_projects/databases_no-backup/curatedMetagenomicData/global_metagenomes/LLMGQC/33_YuJ_2015/final/SZAXPI017591-140/R1_final.spring</td><td>33_YuJ_2015</td></tr>\n",
       "\t<tr><td>SZAXPI017592-142</td><td>/ebio/abt3_projects/databases_no-backup/curatedMetagenomicData/global_metagenomes/LLMGQC/33_YuJ_2015/final/SZAXPI017592-142/R1_final.spring</td><td>33_YuJ_2015</td></tr>\n",
       "</tbody>\n",
       "</table>\n"
      ],
      "text/latex": [
       "A tidytable: 3360 × 3\n",
       "\\begin{tabular}{lll}\n",
       " Sample & Reads & Dataset\\\\\n",
       " <chr> & <chr> & <chr>\\\\\n",
       "\\hline\n",
       "\t halbarad-11-0-0   & /ebio/abt3\\_projects/databases\\_no-backup/curatedMetagenomicData/global\\_metagenomes/LLMGQC/01\\_CosteaPI\\_2017/final/halbarad-11-0-0/R1\\_final.spring   & 01\\_CosteaPI\\_2017\\\\\n",
       "\t scavenger-11-60-0 & /ebio/abt3\\_projects/databases\\_no-backup/curatedMetagenomicData/global\\_metagenomes/LLMGQC/01\\_CosteaPI\\_2017/final/scavenger-11-60-0/R1\\_final.spring & 01\\_CosteaPI\\_2017\\\\\n",
       "\t ⋮ & ⋮ & ⋮\\\\\n",
       "\t SZAXPI017591-140 & /ebio/abt3\\_projects/databases\\_no-backup/curatedMetagenomicData/global\\_metagenomes/LLMGQC/33\\_YuJ\\_2015/final/SZAXPI017591-140/R1\\_final.spring & 33\\_YuJ\\_2015\\\\\n",
       "\t SZAXPI017592-142 & /ebio/abt3\\_projects/databases\\_no-backup/curatedMetagenomicData/global\\_metagenomes/LLMGQC/33\\_YuJ\\_2015/final/SZAXPI017592-142/R1\\_final.spring & 33\\_YuJ\\_2015\\\\\n",
       "\\end{tabular}\n"
      ],
      "text/markdown": [
       "\n",
       "A tidytable: 3360 × 3\n",
       "\n",
       "| Sample &lt;chr&gt; | Reads &lt;chr&gt; | Dataset &lt;chr&gt; |\n",
       "|---|---|---|\n",
       "| halbarad-11-0-0   | /ebio/abt3_projects/databases_no-backup/curatedMetagenomicData/global_metagenomes/LLMGQC/01_CosteaPI_2017/final/halbarad-11-0-0/R1_final.spring   | 01_CosteaPI_2017 |\n",
       "| scavenger-11-60-0 | /ebio/abt3_projects/databases_no-backup/curatedMetagenomicData/global_metagenomes/LLMGQC/01_CosteaPI_2017/final/scavenger-11-60-0/R1_final.spring | 01_CosteaPI_2017 |\n",
       "| ⋮ | ⋮ | ⋮ |\n",
       "| SZAXPI017591-140 | /ebio/abt3_projects/databases_no-backup/curatedMetagenomicData/global_metagenomes/LLMGQC/33_YuJ_2015/final/SZAXPI017591-140/R1_final.spring | 33_YuJ_2015 |\n",
       "| SZAXPI017592-142 | /ebio/abt3_projects/databases_no-backup/curatedMetagenomicData/global_metagenomes/LLMGQC/33_YuJ_2015/final/SZAXPI017592-142/R1_final.spring | 33_YuJ_2015 |\n",
       "\n"
      ],
      "text/plain": [
       "     Sample           \n",
       "1    halbarad-11-0-0  \n",
       "2    scavenger-11-60-0\n",
       "⋮    ⋮                \n",
       "3359 SZAXPI017591-140 \n",
       "3360 SZAXPI017592-142 \n",
       "     Reads                                                                                                                                            \n",
       "1    /ebio/abt3_projects/databases_no-backup/curatedMetagenomicData/global_metagenomes/LLMGQC/01_CosteaPI_2017/final/halbarad-11-0-0/R1_final.spring  \n",
       "2    /ebio/abt3_projects/databases_no-backup/curatedMetagenomicData/global_metagenomes/LLMGQC/01_CosteaPI_2017/final/scavenger-11-60-0/R1_final.spring\n",
       "⋮    ⋮                                                                                                                                                \n",
       "3359 /ebio/abt3_projects/databases_no-backup/curatedMetagenomicData/global_metagenomes/LLMGQC/33_YuJ_2015/final/SZAXPI017591-140/R1_final.spring      \n",
       "3360 /ebio/abt3_projects/databases_no-backup/curatedMetagenomicData/global_metagenomes/LLMGQC/33_YuJ_2015/final/SZAXPI017592-142/R1_final.spring      \n",
       "     Dataset         \n",
       "1    01_CosteaPI_2017\n",
       "2    01_CosteaPI_2017\n",
       "⋮    ⋮               \n",
       "3359 33_YuJ_2015     \n",
       "3360 33_YuJ_2015     "
      ]
     },
     "metadata": {},
     "output_type": "display_data"
    }
   ],
   "source": [
    "# loading & merging tables\n",
    "read_tbl = function(F){\n",
    "    df = Fread(F, fill=TRUE)\n",
    "    df$Dataset = F %>% dirname %>% dirname %>% basename\n",
    "    return(df)\n",
    "}\n",
    "\n",
    "spring = spring_files %>%\n",
    "    lapply(read_tbl) %>%\n",
    "    rbindlist(use.names=TRUE) %>%\n",
    "    select.(-Notes)\n",
    "spring"
   ]
  },
  {
   "cell_type": "code",
   "execution_count": 14,
   "metadata": {
    "ExecuteTime": {
     "end_time": "2021-07-26T17:58:08.299154Z",
     "start_time": "2021-07-26T17:58:08.245Z"
    }
   },
   "outputs": [
    {
     "name": "stdout",
     "output_type": "stream",
     "text": [
      "File written: /ebio/abt3_scratch/nyoungblut/curatedMetagenomics//samples_spring.tsv \n"
     ]
    }
   ],
   "source": [
    "F = file.path(scratch_dir, 'samples_spring.tsv')\n",
    "spring %>% write_table(F)"
   ]
  },
  {
   "cell_type": "markdown",
   "metadata": {},
   "source": [
    "### Config"
   ]
  },
  {
   "cell_type": "code",
   "execution_count": 17,
   "metadata": {
    "ExecuteTime": {
     "end_time": "2021-07-26T18:19:48.915387Z",
     "start_time": "2021-07-26T18:19:48.845Z"
    }
   },
   "outputs": [
    {
     "name": "stdout",
     "output_type": "stream",
     "text": [
      "# Input table with sample <-> read_file information\n",
      "samples_file: /ebio/abt3_scratch/nyoungblut/curatedMetagenomics/samples_spring.tsv\n",
      "\n",
      "# Output location (can be the same as input)\n",
      "output_dir: /ebio/abt3_scratch/nyoungblut/curatedMetagenomics/LLMGQC/\n",
      "\n",
      "# temporary file directory (your username will be added automatically)\n",
      "tmp_dir: /ebio/abt3_scratch/\n",
      "\n",
      "# If input are *.spring, are they paired-end reads (or single)?\n",
      "spring_files_paired: False\n",
      "\n",
      "# Remove input read files?\n",
      "rm_input_reads: False\n",
      "\n",
      "# ionice for reducing I/O loads (use \"-c 2\" for normal usage)\n",
      "ionice: -c 3\n",
      "\n",
      "# pipeline params\n",
      "pipeline:\n",
      "  snakemake_folder: ./\n",
      "  script_folder: ./bin/scripts/\n",
      "  name: LLCOMP"
     ]
    }
   ],
   "source": [
    "cat_file(file.path(scratch_dir, 'config.yaml'))"
   ]
  },
  {
   "cell_type": "markdown",
   "metadata": {},
   "source": [
    "### Run"
   ]
  },
  {
   "cell_type": "markdown",
   "metadata": {},
   "source": [
    "```\n",
    "(snakemake) @ rick:/ebio/abt3_projects/software/dev/ll_pipelines/llcomp\n",
    "$ screen -L -S llcomp-curMG ./snakemake_sge.sh /ebio/abt3_scratch/nyoungblut/curatedMetagenomics/config.yaml 40 -F\n",
    "```"
   ]
  },
  {
   "cell_type": "markdown",
   "metadata": {},
   "source": [
    "## LLMGP"
   ]
  },
  {
   "cell_type": "markdown",
   "metadata": {},
   "source": [
    "### Config"
   ]
  },
  {
   "cell_type": "code",
   "execution_count": 18,
   "metadata": {
    "ExecuteTime": {
     "end_time": "2021-07-27T07:47:57.517194Z",
     "start_time": "2021-07-27T07:47:57.478Z"
    }
   },
   "outputs": [
    {
     "name": "stdout",
     "output_type": "stream",
     "text": [
      "# DESCRIPTION:\n",
      "## This is an example of running the pipeline with a custom humann2 db.\n",
      "## This config is set up to just use the custom nucleotide db, but the protein db could be used also (or instead)\n",
      "\n",
      "#-- I/O --#\n",
      "# table with sample --> read_file information\n",
      "samples_file: /ebio/abt3_scratch/nyoungblut/curatedMetagenomics/LLMGQC/samples.txt\n",
      "\n",
      "# output location\n",
      "output_dir: /ebio/abt3_projects/databases_no-backup/curatedMetagenomicData/global_metagenomes/combined_GTDBr202/LLMGP/\n",
      "\n",
      "# temporary file directory (your username will be added automatically)\n",
      "tmp_dir: /ebio/abt3_scratch/\n",
      "\n",
      "# read file path\n",
      "# use \"None\" if full file path is included in the samples_file\n",
      "read_file_path: None\n",
      "\n",
      "#-- DB --#\n",
      "# NOTE: the humann & kraken databases were built from the GTDB\n",
      "## humann3\n",
      "humann3_dbs:\n",
      "  metaphlan3_mpa_db: /ebio/abt3_projects/databases_no-backup/metaphlan3/201901/mpa_v30_CHOCOPhlAn_201901_marker_info.txt\n",
      "  nuc_db: /ebio/abt3_projects/databases_no-backup/GTDB/release202/Struo2/humann3/uniref50/genome_reps_filt_annot.fna.gz\n",
      "  prot_db: /ebio/abt3_projects/databases_no-backup/GTDB/release202/Struo2/humann3/uniref50/protein_database/uniref50_201901.dmnd\n",
      "  utility_mapping_db: /ebio/abt3_projects/databases_no-backup/humann3/201901/utility_mapping/README.md\n",
      "  genefamily_annotation_db: /ebio/abt3_projects/databases_no-backup/humann3/201901/utility_mapping/map_uniref50_name.txt.gz\n",
      "## kraken/bracken (db selected automatically based on read length)\n",
      "kraken_dbs:\n",
      "  hash: /ebio/abt3_projects/databases_no-backup/GTDB/release202/Struo2/kraken2/hash.k2d\n",
      "  opts: /ebio/abt3_projects/databases_no-backup/GTDB/release202/Struo2/kraken2/opts.k2d\n",
      "  taxo: /ebio/abt3_projects/databases_no-backup/GTDB/release202/Struo2/kraken2/taxo.k2d\n",
      "  taxdump: /ebio/abt3_projects/databases_no-backup/GTDB/release202/taxdump/names.dmp\n",
      "  tree: /ebio/abt3_projects/databases_no-backup/GTDB/release202/Struo2/phylogeny/kraken.nwk \n",
      "bracken_dbs:\n",
      "  150: /ebio/abt3_projects/databases_no-backup/GTDB/release202/Struo2/kraken2/database150mers.kmer_distrib\n",
      "  100: /ebio/abt3_projects/databases_no-backup/GTDB/release202/Struo2/kraken2/database100mers.kmer_distrib\n",
      "genome_content_dbs:\n",
      "  cog: /ebio/abt3_projects/databases_no-backup/GTDB/release202/Struo2/genome_content/uniref90_cog-categories.tsv\n",
      "  pfam: /ebio/abt3_projects/databases_no-backup/GTDB/release202/Struo2/genome_content/uniref90_pfam-categories.tsv\n",
      "  traitar: /ebio/abt3_projects/databases_no-backup/GTDB/release202/Struo2/genome_content/traitar_majority-votes.tsv\n",
      "# EukDetect\n",
      "eukdetect_dbs:\n",
      "  bt2: /ebio/abt3_projects/databases_no-backup/EukDetect/eukdetect_database_v1/all_buscos_v4.fna\n",
      "  taxid: /ebio/abt3_projects/databases_no-backup/EukDetect/eukdetect_database_v1/busco_taxid_link.txt\n",
      "  markers: /ebio/abt3_projects/databases_no-backup/EukDetect/eukdetect_database_v1/specific_and_inherited_markers_per_taxid.txt\n",
      "  sqlite: /ebio/abt3_projects/databases_no-backup/EukDetect/eukdetect_database_v1/taxa.sqlite\n",
      "# raspir\n",
      "raspir_dbs:\n",
      "  fasta: /ebio/abt3_projects/databases_no-backup/raspir/bacteria-archaea/complete_bac-arc_201910_3.fasta.gz\n",
      "\n",
      "#-- subsample --#\n",
      "# subsampling input reads \n",
      "## \"Skip\" skips subsampling; otherwise set the number of reads to subsample\n",
      "subsample_depth: 1000000\n",
      "subsample_seed: 18938\n",
      "\n",
      "#-- include read2 (if paired-end) --#\n",
      "# combine R1 & R2 or just use R1?\n",
      "include_read2: False\n",
      "\n",
      "#-- humann3 groupings --#\n",
      "# always have at least the \"*_default\" grouping\n",
      "humann_regroup:\n",
      "  - uniref50_default\n",
      "  - uniref50_go\n",
      "  - uniref50_ko\n",
      "  - uniref50_eggnog\n",
      "  - uniref50_pfam\n",
      "  - uniref50_level4ec\n",
      "  - uniref50_rxn\n",
      "\n",
      "#-- master control --#\n",
      "# high-level control of major pipeline steps\n",
      "run_humann3: False\n",
      "run_kraken2_bracken: True\n",
      "run_simka: Skip #True\n",
      "run_hulk: Skip #True\n",
      "run_raspir: Skip #True\n",
      "run_eukdetect: Skip #True\n",
      "\n",
      "#-- software parameters --#\n",
      "# Use \"Skip\" to skip particular steps\n",
      "params:\n",
      "  ionice: -c 3  \n",
      "  # humann3\n",
      "  metaphlan3: -t rel_ab\n",
      "  humann3:\n",
      "    run: --gap-fill on --bypass-nucleotide-index --search-mode uniref50 --memory-use maximum --remove-temp-output\n",
      "    diamond: --mid-sensitive --query-cover 80 --id 50 --max-target-seqs 1 --block-size 4 --index-chunks 2 \n",
      "    diamond_evalue: 0.001\n",
      "    reduce_taxonomic_profile: --function max --sort-by level\n",
      "    renorm_table: --units relab\n",
      "    diversity:\n",
      "      pathway_coverage_cutoff: 0.8  # pathways w/ < coverage changed to 0\n",
      "      rarefy_depths:           # multiple rarefying depths allowed\n",
      "        - Skip\n",
      "        - 100000\n",
      "        - 500000\n",
      "      rarefy_params: flexible\n",
      "      alpha_metrics:\n",
      "        - shannon\n",
      "        - pielou_e\n",
      "      beta_metrics:\n",
      "        - braycurtis\n",
      "        - jaccard\n",
      "  # kraken/bracken\n",
      "  krk_brk:\n",
      "    kraken: \"\"\n",
      "    bracken: -t 10 -l S        # species level (S); `-r` parameter set automatically\n",
      "    diversity:\n",
      "      rarefy_depths:           # multiple rarefying depths allowed\n",
      "        - Skip\n",
      "        - 50000\n",
      "      rarefy_params: --p-no-with-replacement\n",
      "      alpha_metrics:\n",
      "        - shannon\n",
      "        - pielou_e\n",
      "      alpha_phylo_metrics:\n",
      "        - faith_pd\n",
      "      beta_metrics:\n",
      "        - braycurtis\n",
      "        - jaccard\n",
      "      beta_phylo_metrics:\n",
      "        - weighted_unifrac    \n",
      "        - unweighted_unifrac\n",
      "      ecophylogenetic: \"\"\n",
      "      functional: Skip\n",
      "      hill:\n",
      "        taxa: --hill-number 0 1 2\n",
      "        phylogeny: --hill-number 0 1 2\n",
      "        function: --hill-number 0 1 2\n",
      "  # simka \n",
      "  simka:\n",
      "    run: -kmer-size 31 -abundance-min 2 -simple-dist -max-reads 1000000\n",
      "    vis: -width 8 -height 8 -pca -heatmap\n",
      "  # hulk\n",
      "  hulk:\n",
      "    histosketch: -k 21 -m 2\n",
      "    distance: \n",
      "      - jaccard\n",
      "      - braycurtis\n",
      "  # raspir\n",
      "  raspir:\n",
      "    run: \"\"\n",
      "  # EukDetect\n",
      "  eukdetect:\n",
      "    min_read_len: 80\n",
      "\n",
      "#-- snakemake pipeline --#\n",
      "pipeline:\n",
      "  snakemake_folder: ./\n",
      "  script_folder: ./bin/scripts/\n",
      "  name: LLMGP"
     ]
    }
   ],
   "source": [
    "F = file.path(work_dir, 'LLMGP', 'config.yaml')\n",
    "cat_file(F)"
   ]
  },
  {
   "cell_type": "markdown",
   "metadata": {},
   "source": [
    "### Run"
   ]
  },
  {
   "cell_type": "markdown",
   "metadata": {},
   "source": [
    "```\n",
    "(snakemake) @ rick:/ebio/abt3_projects/software/dev/ll_pipelines/llmgp\n",
    "$ screen -L -S llmgp-GTDBr202 ./snakemake_sge.sh /ebio/abt3_projects/databases_no-backup/curatedMetagenomicData/global_metagenomes/combined_GTDBr202/LLMGP/config.yaml 50 -F\n",
    "```"
   ]
  },
  {
   "cell_type": "markdown",
   "metadata": {},
   "source": [
    "### Summary"
   ]
  },
  {
   "cell_type": "code",
   "execution_count": 59,
   "metadata": {
    "ExecuteTime": {
     "end_time": "2021-07-29T06:33:09.712666Z",
     "start_time": "2021-07-29T06:33:09.645Z"
    }
   },
   "outputs": [
    {
     "data": {
      "text/html": [
       "<table class=\"dataframe\">\n",
       "<caption>A tidytable: 5963 × 9</caption>\n",
       "<thead>\n",
       "\t<tr><th scope=col>sample</th><th scope=col>percent_reads</th><th scope=col>num_reads_mapped_to_clade</th><th scope=col>num_reads_mapped_to_taxon</th><th scope=col>rank_code</th><th scope=col>taxID</th><th scope=col>scientific_name</th><th scope=col>database</th><th scope=col>perc_mapped</th></tr>\n",
       "\t<tr><th scope=col>&lt;chr&gt;</th><th scope=col>&lt;dbl&gt;</th><th scope=col>&lt;int&gt;</th><th scope=col>&lt;int&gt;</th><th scope=col>&lt;chr&gt;</th><th scope=col>&lt;int&gt;</th><th scope=col>&lt;chr&gt;</th><th scope=col>&lt;chr&gt;</th><th scope=col>&lt;dbl&gt;</th></tr>\n",
       "</thead>\n",
       "<tbody>\n",
       "\t<tr><td>SAMEA5814677</td><td>68.88</td><td>24213714</td><td>24213714</td><td>U</td><td>0</td><td>unclassified</td><td>Release 86</td><td>31.12</td></tr>\n",
       "\t<tr><td>SAMEA5814637</td><td>16.49</td><td> 4989740</td><td> 4989740</td><td>U</td><td>0</td><td>unclassified</td><td>Release 86</td><td>83.51</td></tr>\n",
       "\t<tr><td>⋮</td><td>⋮</td><td>⋮</td><td>⋮</td><td>⋮</td><td>⋮</td><td>⋮</td><td>⋮</td><td>⋮</td></tr>\n",
       "\t<tr><td>VTS_SS_7_4_18</td><td>25.42</td><td>635964</td><td>635964</td><td>U</td><td>0</td><td>unclassified</td><td>Release 86</td><td>74.58</td></tr>\n",
       "\t<tr><td>VTS_SS_9_1_18</td><td>25.02</td><td>644572</td><td>644572</td><td>U</td><td>0</td><td>unclassified</td><td>Release 86</td><td>74.98</td></tr>\n",
       "</tbody>\n",
       "</table>\n"
      ],
      "text/latex": [
       "A tidytable: 5963 × 9\n",
       "\\begin{tabular}{lllllllll}\n",
       " sample & percent\\_reads & num\\_reads\\_mapped\\_to\\_clade & num\\_reads\\_mapped\\_to\\_taxon & rank\\_code & taxID & scientific\\_name & database & perc\\_mapped\\\\\n",
       " <chr> & <dbl> & <int> & <int> & <chr> & <int> & <chr> & <chr> & <dbl>\\\\\n",
       "\\hline\n",
       "\t SAMEA5814677 & 68.88 & 24213714 & 24213714 & U & 0 & unclassified & Release 86 & 31.12\\\\\n",
       "\t SAMEA5814637 & 16.49 &  4989740 &  4989740 & U & 0 & unclassified & Release 86 & 83.51\\\\\n",
       "\t ⋮ & ⋮ & ⋮ & ⋮ & ⋮ & ⋮ & ⋮ & ⋮ & ⋮\\\\\n",
       "\t VTS\\_SS\\_7\\_4\\_18 & 25.42 & 635964 & 635964 & U & 0 & unclassified & Release 86 & 74.58\\\\\n",
       "\t VTS\\_SS\\_9\\_1\\_18 & 25.02 & 644572 & 644572 & U & 0 & unclassified & Release 86 & 74.98\\\\\n",
       "\\end{tabular}\n"
      ],
      "text/markdown": [
       "\n",
       "A tidytable: 5963 × 9\n",
       "\n",
       "| sample &lt;chr&gt; | percent_reads &lt;dbl&gt; | num_reads_mapped_to_clade &lt;int&gt; | num_reads_mapped_to_taxon &lt;int&gt; | rank_code &lt;chr&gt; | taxID &lt;int&gt; | scientific_name &lt;chr&gt; | database &lt;chr&gt; | perc_mapped &lt;dbl&gt; |\n",
       "|---|---|---|---|---|---|---|---|---|\n",
       "| SAMEA5814677 | 68.88 | 24213714 | 24213714 | U | 0 | unclassified | Release 86 | 31.12 |\n",
       "| SAMEA5814637 | 16.49 |  4989740 |  4989740 | U | 0 | unclassified | Release 86 | 83.51 |\n",
       "| ⋮ | ⋮ | ⋮ | ⋮ | ⋮ | ⋮ | ⋮ | ⋮ | ⋮ |\n",
       "| VTS_SS_7_4_18 | 25.42 | 635964 | 635964 | U | 0 | unclassified | Release 86 | 74.58 |\n",
       "| VTS_SS_9_1_18 | 25.02 | 644572 | 644572 | U | 0 | unclassified | Release 86 | 74.98 |\n",
       "\n"
      ],
      "text/plain": [
       "     sample        percent_reads num_reads_mapped_to_clade\n",
       "1    SAMEA5814677  68.88         24213714                 \n",
       "2    SAMEA5814637  16.49          4989740                 \n",
       "⋮    ⋮             ⋮             ⋮                        \n",
       "5962 VTS_SS_7_4_18 25.42         635964                   \n",
       "5963 VTS_SS_9_1_18 25.02         644572                   \n",
       "     num_reads_mapped_to_taxon rank_code taxID scientific_name database  \n",
       "1    24213714                  U         0     unclassified    Release 86\n",
       "2     4989740                  U         0     unclassified    Release 86\n",
       "⋮    ⋮                         ⋮         ⋮     ⋮               ⋮         \n",
       "5962 635964                    U         0     unclassified    Release 86\n",
       "5963 644572                    U         0     unclassified    Release 86\n",
       "     perc_mapped\n",
       "1    31.12      \n",
       "2    83.51      \n",
       "⋮    ⋮          \n",
       "5962 74.58      \n",
       "5963 74.98      "
      ]
     },
     "metadata": {},
     "output_type": "display_data"
    }
   ],
   "source": [
    "F = '/ebio/abt3_projects/databases_no-backup/curatedMetagenomicData/global_metagenomes/combined_GTDBr86/profiles/kraken'\n",
    "uncls_r86 = Fread(file.path(F, 'all-combined_kraken-unclassified.tsv')) %>%\n",
    "    mutate.(database = 'Release 86',\n",
    "            perc_mapped = 100 - percent_reads)\n",
    "uncls_r86"
   ]
  },
  {
   "cell_type": "code",
   "execution_count": 60,
   "metadata": {
    "ExecuteTime": {
     "end_time": "2021-07-29T06:33:09.848536Z",
     "start_time": "2021-07-29T06:33:09.788Z"
    }
   },
   "outputs": [
    {
     "data": {
      "text/html": [
       "<table class=\"dataframe\">\n",
       "<caption>A tidytable: 3360 × 9</caption>\n",
       "<thead>\n",
       "\t<tr><th scope=col>sample</th><th scope=col>percent_reads</th><th scope=col>num_reads_mapped_to_clade</th><th scope=col>num_reads_mapped_to_taxon</th><th scope=col>rank_code</th><th scope=col>taxID</th><th scope=col>scientific_name</th><th scope=col>database</th><th scope=col>perc_mapped</th></tr>\n",
       "\t<tr><th scope=col>&lt;chr&gt;</th><th scope=col>&lt;dbl&gt;</th><th scope=col>&lt;int&gt;</th><th scope=col>&lt;int&gt;</th><th scope=col>&lt;chr&gt;</th><th scope=col>&lt;int&gt;</th><th scope=col>&lt;chr&gt;</th><th scope=col>&lt;chr&gt;</th><th scope=col>&lt;dbl&gt;</th></tr>\n",
       "</thead>\n",
       "<tbody>\n",
       "\t<tr><td>halbarad-11-0-0  </td><td>10.66</td><td>106586</td><td>106586</td><td>U</td><td>0</td><td>unclassified</td><td>Release 202</td><td>89.34</td></tr>\n",
       "\t<tr><td>scavenger-11-60-0</td><td> 7.83</td><td> 78287</td><td> 78287</td><td>U</td><td>0</td><td>unclassified</td><td>Release 202</td><td>92.17</td></tr>\n",
       "\t<tr><td>⋮</td><td>⋮</td><td>⋮</td><td>⋮</td><td>⋮</td><td>⋮</td><td>⋮</td><td>⋮</td><td>⋮</td></tr>\n",
       "\t<tr><td>SZAXPI017591-140</td><td>13.89</td><td>138851</td><td>138851</td><td>U</td><td>0</td><td>unclassified</td><td>Release 202</td><td>86.11</td></tr>\n",
       "\t<tr><td>SZAXPI017592-142</td><td>11.63</td><td>116335</td><td>116335</td><td>U</td><td>0</td><td>unclassified</td><td>Release 202</td><td>88.37</td></tr>\n",
       "</tbody>\n",
       "</table>\n"
      ],
      "text/latex": [
       "A tidytable: 3360 × 9\n",
       "\\begin{tabular}{lllllllll}\n",
       " sample & percent\\_reads & num\\_reads\\_mapped\\_to\\_clade & num\\_reads\\_mapped\\_to\\_taxon & rank\\_code & taxID & scientific\\_name & database & perc\\_mapped\\\\\n",
       " <chr> & <dbl> & <int> & <int> & <chr> & <int> & <chr> & <chr> & <dbl>\\\\\n",
       "\\hline\n",
       "\t halbarad-11-0-0   & 10.66 & 106586 & 106586 & U & 0 & unclassified & Release 202 & 89.34\\\\\n",
       "\t scavenger-11-60-0 &  7.83 &  78287 &  78287 & U & 0 & unclassified & Release 202 & 92.17\\\\\n",
       "\t ⋮ & ⋮ & ⋮ & ⋮ & ⋮ & ⋮ & ⋮ & ⋮ & ⋮\\\\\n",
       "\t SZAXPI017591-140 & 13.89 & 138851 & 138851 & U & 0 & unclassified & Release 202 & 86.11\\\\\n",
       "\t SZAXPI017592-142 & 11.63 & 116335 & 116335 & U & 0 & unclassified & Release 202 & 88.37\\\\\n",
       "\\end{tabular}\n"
      ],
      "text/markdown": [
       "\n",
       "A tidytable: 3360 × 9\n",
       "\n",
       "| sample &lt;chr&gt; | percent_reads &lt;dbl&gt; | num_reads_mapped_to_clade &lt;int&gt; | num_reads_mapped_to_taxon &lt;int&gt; | rank_code &lt;chr&gt; | taxID &lt;int&gt; | scientific_name &lt;chr&gt; | database &lt;chr&gt; | perc_mapped &lt;dbl&gt; |\n",
       "|---|---|---|---|---|---|---|---|---|\n",
       "| halbarad-11-0-0   | 10.66 | 106586 | 106586 | U | 0 | unclassified | Release 202 | 89.34 |\n",
       "| scavenger-11-60-0 |  7.83 |  78287 |  78287 | U | 0 | unclassified | Release 202 | 92.17 |\n",
       "| ⋮ | ⋮ | ⋮ | ⋮ | ⋮ | ⋮ | ⋮ | ⋮ | ⋮ |\n",
       "| SZAXPI017591-140 | 13.89 | 138851 | 138851 | U | 0 | unclassified | Release 202 | 86.11 |\n",
       "| SZAXPI017592-142 | 11.63 | 116335 | 116335 | U | 0 | unclassified | Release 202 | 88.37 |\n",
       "\n"
      ],
      "text/plain": [
       "     sample            percent_reads num_reads_mapped_to_clade\n",
       "1    halbarad-11-0-0   10.66         106586                   \n",
       "2    scavenger-11-60-0  7.83          78287                   \n",
       "⋮    ⋮                 ⋮             ⋮                        \n",
       "3359 SZAXPI017591-140  13.89         138851                   \n",
       "3360 SZAXPI017592-142  11.63         116335                   \n",
       "     num_reads_mapped_to_taxon rank_code taxID scientific_name database   \n",
       "1    106586                    U         0     unclassified    Release 202\n",
       "2     78287                    U         0     unclassified    Release 202\n",
       "⋮    ⋮                         ⋮         ⋮     ⋮               ⋮          \n",
       "3359 138851                    U         0     unclassified    Release 202\n",
       "3360 116335                    U         0     unclassified    Release 202\n",
       "     perc_mapped\n",
       "1    89.34      \n",
       "2    92.17      \n",
       "⋮    ⋮          \n",
       "3359 86.11      \n",
       "3360 88.37      "
      ]
     },
     "metadata": {},
     "output_type": "display_data"
    }
   ],
   "source": [
    "F = file.path(work_dir, 'LLMGP', 'kraken', 'all-combined_kraken-unclassified.tsv')\n",
    "uncls_r202 = Fread(F) %>%\n",
    "    mutate.(database = 'Release 202',\n",
    "            perc_mapped = 100 - percent_reads)\n",
    "uncls_r202"
   ]
  },
  {
   "cell_type": "code",
   "execution_count": 61,
   "metadata": {
    "ExecuteTime": {
     "end_time": "2021-07-29T06:33:09.991626Z",
     "start_time": "2021-07-29T06:33:09.924Z"
    }
   },
   "outputs": [
    {
     "data": {
      "text/html": [
       "<table class=\"dataframe\">\n",
       "<caption>A tidytable: 9323 × 9</caption>\n",
       "<thead>\n",
       "\t<tr><th scope=col>sample</th><th scope=col>percent_reads</th><th scope=col>num_reads_mapped_to_clade</th><th scope=col>num_reads_mapped_to_taxon</th><th scope=col>rank_code</th><th scope=col>taxID</th><th scope=col>scientific_name</th><th scope=col>database</th><th scope=col>perc_mapped</th></tr>\n",
       "\t<tr><th scope=col>&lt;chr&gt;</th><th scope=col>&lt;dbl&gt;</th><th scope=col>&lt;int&gt;</th><th scope=col>&lt;int&gt;</th><th scope=col>&lt;chr&gt;</th><th scope=col>&lt;int&gt;</th><th scope=col>&lt;chr&gt;</th><th scope=col>&lt;chr&gt;</th><th scope=col>&lt;dbl&gt;</th></tr>\n",
       "</thead>\n",
       "<tbody>\n",
       "\t<tr><td>SAMEA5814677</td><td>68.88</td><td>24213714</td><td>24213714</td><td>U</td><td>0</td><td>unclassified</td><td>Release 86</td><td>31.12</td></tr>\n",
       "\t<tr><td>SAMEA5814637</td><td>16.49</td><td> 4989740</td><td> 4989740</td><td>U</td><td>0</td><td>unclassified</td><td>Release 86</td><td>83.51</td></tr>\n",
       "\t<tr><td>⋮</td><td>⋮</td><td>⋮</td><td>⋮</td><td>⋮</td><td>⋮</td><td>⋮</td><td>⋮</td><td>⋮</td></tr>\n",
       "\t<tr><td>SZAXPI017591_140</td><td>13.89</td><td>138851</td><td>138851</td><td>U</td><td>0</td><td>unclassified</td><td>Release 202</td><td>86.11</td></tr>\n",
       "\t<tr><td>SZAXPI017592_142</td><td>11.63</td><td>116335</td><td>116335</td><td>U</td><td>0</td><td>unclassified</td><td>Release 202</td><td>88.37</td></tr>\n",
       "</tbody>\n",
       "</table>\n"
      ],
      "text/latex": [
       "A tidytable: 9323 × 9\n",
       "\\begin{tabular}{lllllllll}\n",
       " sample & percent\\_reads & num\\_reads\\_mapped\\_to\\_clade & num\\_reads\\_mapped\\_to\\_taxon & rank\\_code & taxID & scientific\\_name & database & perc\\_mapped\\\\\n",
       " <chr> & <dbl> & <int> & <int> & <chr> & <int> & <chr> & <chr> & <dbl>\\\\\n",
       "\\hline\n",
       "\t SAMEA5814677 & 68.88 & 24213714 & 24213714 & U & 0 & unclassified & Release 86 & 31.12\\\\\n",
       "\t SAMEA5814637 & 16.49 &  4989740 &  4989740 & U & 0 & unclassified & Release 86 & 83.51\\\\\n",
       "\t ⋮ & ⋮ & ⋮ & ⋮ & ⋮ & ⋮ & ⋮ & ⋮ & ⋮\\\\\n",
       "\t SZAXPI017591\\_140 & 13.89 & 138851 & 138851 & U & 0 & unclassified & Release 202 & 86.11\\\\\n",
       "\t SZAXPI017592\\_142 & 11.63 & 116335 & 116335 & U & 0 & unclassified & Release 202 & 88.37\\\\\n",
       "\\end{tabular}\n"
      ],
      "text/markdown": [
       "\n",
       "A tidytable: 9323 × 9\n",
       "\n",
       "| sample &lt;chr&gt; | percent_reads &lt;dbl&gt; | num_reads_mapped_to_clade &lt;int&gt; | num_reads_mapped_to_taxon &lt;int&gt; | rank_code &lt;chr&gt; | taxID &lt;int&gt; | scientific_name &lt;chr&gt; | database &lt;chr&gt; | perc_mapped &lt;dbl&gt; |\n",
       "|---|---|---|---|---|---|---|---|---|\n",
       "| SAMEA5814677 | 68.88 | 24213714 | 24213714 | U | 0 | unclassified | Release 86 | 31.12 |\n",
       "| SAMEA5814637 | 16.49 |  4989740 |  4989740 | U | 0 | unclassified | Release 86 | 83.51 |\n",
       "| ⋮ | ⋮ | ⋮ | ⋮ | ⋮ | ⋮ | ⋮ | ⋮ | ⋮ |\n",
       "| SZAXPI017591_140 | 13.89 | 138851 | 138851 | U | 0 | unclassified | Release 202 | 86.11 |\n",
       "| SZAXPI017592_142 | 11.63 | 116335 | 116335 | U | 0 | unclassified | Release 202 | 88.37 |\n",
       "\n"
      ],
      "text/plain": [
       "     sample           percent_reads num_reads_mapped_to_clade\n",
       "1    SAMEA5814677     68.88         24213714                 \n",
       "2    SAMEA5814637     16.49          4989740                 \n",
       "⋮    ⋮                ⋮             ⋮                        \n",
       "9322 SZAXPI017591_140 13.89         138851                   \n",
       "9323 SZAXPI017592_142 11.63         116335                   \n",
       "     num_reads_mapped_to_taxon rank_code taxID scientific_name database   \n",
       "1    24213714                  U         0     unclassified    Release 86 \n",
       "2     4989740                  U         0     unclassified    Release 86 \n",
       "⋮    ⋮                         ⋮         ⋮     ⋮               ⋮          \n",
       "9322 138851                    U         0     unclassified    Release 202\n",
       "9323 116335                    U         0     unclassified    Release 202\n",
       "     perc_mapped\n",
       "1    31.12      \n",
       "2    83.51      \n",
       "⋮    ⋮          \n",
       "9322 86.11      \n",
       "9323 88.37      "
      ]
     },
     "metadata": {},
     "output_type": "display_data"
    }
   ],
   "source": [
    "# merging\n",
    "uncls = rbindlist(list(uncls_r86, uncls_r202), use.names=TRUE) %>%\n",
    "    mutate.(sample = gsub('[.+-]+', '_', sample)) \n",
    "uncls"
   ]
  },
  {
   "cell_type": "code",
   "execution_count": 62,
   "metadata": {
    "ExecuteTime": {
     "end_time": "2021-07-29T06:33:10.132193Z",
     "start_time": "2021-07-29T06:33:10.052Z"
    }
   },
   "outputs": [
    {
     "name": "stdout",
     "output_type": "stream",
     "text": [
      "intersect(x,y): 3469 \n",
      "setdiff(x,y): 0 \n",
      "setdiff(y,x): 2494 \n",
      "union(x,y): 5963 \n"
     ]
    },
    {
     "data": {
      "text/html": [
       "<table class=\"dataframe\">\n",
       "<caption>A tidytable: 6829 × 43</caption>\n",
       "<thead>\n",
       "\t<tr><th scope=col>sample</th><th scope=col>percent_reads</th><th scope=col>num_reads_mapped_to_clade</th><th scope=col>num_reads_mapped_to_taxon</th><th scope=col>rank_code</th><th scope=col>taxID</th><th scope=col>scientific_name</th><th scope=col>database</th><th scope=col>perc_mapped</th><th scope=col>dataset_name</th><th scope=col>⋯</th><th scope=col>systolic_p</th><th scope=col>creatine</th><th scope=col>albumine</th><th scope=col>bilubirin</th><th scope=col>smoker</th><th scope=col>ever_smoker</th><th scope=col>birth_control_pil</th><th scope=col>c_peptide</th><th scope=col>insulin_cat</th><th scope=col>westernized</th></tr>\n",
       "\t<tr><th scope=col>&lt;chr&gt;</th><th scope=col>&lt;dbl&gt;</th><th scope=col>&lt;int&gt;</th><th scope=col>&lt;int&gt;</th><th scope=col>&lt;chr&gt;</th><th scope=col>&lt;int&gt;</th><th scope=col>&lt;chr&gt;</th><th scope=col>&lt;chr&gt;</th><th scope=col>&lt;dbl&gt;</th><th scope=col>&lt;chr&gt;</th><th scope=col>⋯</th><th scope=col>&lt;int&gt;</th><th scope=col>&lt;int&gt;</th><th scope=col>&lt;dbl&gt;</th><th scope=col>&lt;dbl&gt;</th><th scope=col>&lt;chr&gt;</th><th scope=col>&lt;chr&gt;</th><th scope=col>&lt;chr&gt;</th><th scope=col>&lt;dbl&gt;</th><th scope=col>&lt;chr&gt;</th><th scope=col>&lt;lgl&gt;</th></tr>\n",
       "</thead>\n",
       "<tbody>\n",
       "\t<tr><td>MV_FEM1_t1Q14</td><td>37.19</td><td>4967298</td><td>4967298</td><td>U</td><td>0</td><td>unclassified</td><td>Release 86 </td><td>62.81</td><td>AsnicarF_2017</td><td>⋯</td><td>NA</td><td>NA</td><td>NA</td><td>NA</td><td>NA</td><td>NA</td><td>NA</td><td>NA</td><td>NA</td><td>TRUE</td></tr>\n",
       "\t<tr><td>MV_FEM1_t1Q14</td><td> 8.74</td><td>  87382</td><td>  87382</td><td>U</td><td>0</td><td>unclassified</td><td>Release 202</td><td>91.26</td><td>AsnicarF_2017</td><td>⋯</td><td>NA</td><td>NA</td><td>NA</td><td>NA</td><td>NA</td><td>NA</td><td>NA</td><td>NA</td><td>NA</td><td>TRUE</td></tr>\n",
       "\t<tr><td>⋮</td><td>⋮</td><td>⋮</td><td>⋮</td><td>⋮</td><td>⋮</td><td>⋮</td><td>⋮</td><td>⋮</td><td>⋮</td><td>⋱</td><td>⋮</td><td>⋮</td><td>⋮</td><td>⋮</td><td>⋮</td><td>⋮</td><td>⋮</td><td>⋮</td><td>⋮</td><td>⋮</td></tr>\n",
       "\t<tr><td>PNP_Validation_46</td><td>39.10</td><td>10148667</td><td>10148667</td><td>U</td><td>0</td><td>unclassified</td><td>Release 86 </td><td>60.90</td><td>ZeeviD_2015</td><td>⋯</td><td>NA</td><td>NA</td><td>NA</td><td>NA</td><td>NA</td><td>NA</td><td>NA</td><td>NA</td><td>NA</td><td>TRUE</td></tr>\n",
       "\t<tr><td>PNP_Validation_46</td><td> 9.29</td><td>   92917</td><td>   92917</td><td>U</td><td>0</td><td>unclassified</td><td>Release 202</td><td>90.71</td><td>ZeeviD_2015</td><td>⋯</td><td>NA</td><td>NA</td><td>NA</td><td>NA</td><td>NA</td><td>NA</td><td>NA</td><td>NA</td><td>NA</td><td>TRUE</td></tr>\n",
       "</tbody>\n",
       "</table>\n"
      ],
      "text/latex": [
       "A tidytable: 6829 × 43\n",
       "\\begin{tabular}{lllllllllllllllllllll}\n",
       " sample & percent\\_reads & num\\_reads\\_mapped\\_to\\_clade & num\\_reads\\_mapped\\_to\\_taxon & rank\\_code & taxID & scientific\\_name & database & perc\\_mapped & dataset\\_name & ⋯ & systolic\\_p & creatine & albumine & bilubirin & smoker & ever\\_smoker & birth\\_control\\_pil & c\\_peptide & insulin\\_cat & westernized\\\\\n",
       " <chr> & <dbl> & <int> & <int> & <chr> & <int> & <chr> & <chr> & <dbl> & <chr> & ⋯ & <int> & <int> & <dbl> & <dbl> & <chr> & <chr> & <chr> & <dbl> & <chr> & <lgl>\\\\\n",
       "\\hline\n",
       "\t MV\\_FEM1\\_t1Q14 & 37.19 & 4967298 & 4967298 & U & 0 & unclassified & Release 86  & 62.81 & AsnicarF\\_2017 & ⋯ & NA & NA & NA & NA & NA & NA & NA & NA & NA & TRUE\\\\\n",
       "\t MV\\_FEM1\\_t1Q14 &  8.74 &   87382 &   87382 & U & 0 & unclassified & Release 202 & 91.26 & AsnicarF\\_2017 & ⋯ & NA & NA & NA & NA & NA & NA & NA & NA & NA & TRUE\\\\\n",
       "\t ⋮ & ⋮ & ⋮ & ⋮ & ⋮ & ⋮ & ⋮ & ⋮ & ⋮ & ⋮ & ⋱ & ⋮ & ⋮ & ⋮ & ⋮ & ⋮ & ⋮ & ⋮ & ⋮ & ⋮ & ⋮\\\\\n",
       "\t PNP\\_Validation\\_46 & 39.10 & 10148667 & 10148667 & U & 0 & unclassified & Release 86  & 60.90 & ZeeviD\\_2015 & ⋯ & NA & NA & NA & NA & NA & NA & NA & NA & NA & TRUE\\\\\n",
       "\t PNP\\_Validation\\_46 &  9.29 &    92917 &    92917 & U & 0 & unclassified & Release 202 & 90.71 & ZeeviD\\_2015 & ⋯ & NA & NA & NA & NA & NA & NA & NA & NA & NA & TRUE\\\\\n",
       "\\end{tabular}\n"
      ],
      "text/markdown": [
       "\n",
       "A tidytable: 6829 × 43\n",
       "\n",
       "| sample &lt;chr&gt; | percent_reads &lt;dbl&gt; | num_reads_mapped_to_clade &lt;int&gt; | num_reads_mapped_to_taxon &lt;int&gt; | rank_code &lt;chr&gt; | taxID &lt;int&gt; | scientific_name &lt;chr&gt; | database &lt;chr&gt; | perc_mapped &lt;dbl&gt; | dataset_name &lt;chr&gt; | ⋯ ⋯ | systolic_p &lt;int&gt; | creatine &lt;int&gt; | albumine &lt;dbl&gt; | bilubirin &lt;dbl&gt; | smoker &lt;chr&gt; | ever_smoker &lt;chr&gt; | birth_control_pil &lt;chr&gt; | c_peptide &lt;dbl&gt; | insulin_cat &lt;chr&gt; | westernized &lt;lgl&gt; |\n",
       "|---|---|---|---|---|---|---|---|---|---|---|---|---|---|---|---|---|---|---|---|---|\n",
       "| MV_FEM1_t1Q14 | 37.19 | 4967298 | 4967298 | U | 0 | unclassified | Release 86  | 62.81 | AsnicarF_2017 | ⋯ | NA | NA | NA | NA | NA | NA | NA | NA | NA | TRUE |\n",
       "| MV_FEM1_t1Q14 |  8.74 |   87382 |   87382 | U | 0 | unclassified | Release 202 | 91.26 | AsnicarF_2017 | ⋯ | NA | NA | NA | NA | NA | NA | NA | NA | NA | TRUE |\n",
       "| ⋮ | ⋮ | ⋮ | ⋮ | ⋮ | ⋮ | ⋮ | ⋮ | ⋮ | ⋮ | ⋱ | ⋮ | ⋮ | ⋮ | ⋮ | ⋮ | ⋮ | ⋮ | ⋮ | ⋮ | ⋮ |\n",
       "| PNP_Validation_46 | 39.10 | 10148667 | 10148667 | U | 0 | unclassified | Release 86  | 60.90 | ZeeviD_2015 | ⋯ | NA | NA | NA | NA | NA | NA | NA | NA | NA | TRUE |\n",
       "| PNP_Validation_46 |  9.29 |    92917 |    92917 | U | 0 | unclassified | Release 202 | 90.71 | ZeeviD_2015 | ⋯ | NA | NA | NA | NA | NA | NA | NA | NA | NA | TRUE |\n",
       "\n"
      ],
      "text/plain": [
       "     sample            percent_reads num_reads_mapped_to_clade\n",
       "1    MV_FEM1_t1Q14     37.19         4967298                  \n",
       "2    MV_FEM1_t1Q14      8.74           87382                  \n",
       "⋮    ⋮                 ⋮             ⋮                        \n",
       "6828 PNP_Validation_46 39.10         10148667                 \n",
       "6829 PNP_Validation_46  9.29            92917                 \n",
       "     num_reads_mapped_to_taxon rank_code taxID scientific_name database   \n",
       "1    4967298                   U         0     unclassified    Release 86 \n",
       "2      87382                   U         0     unclassified    Release 202\n",
       "⋮    ⋮                         ⋮         ⋮     ⋮               ⋮          \n",
       "6828 10148667                  U         0     unclassified    Release 86 \n",
       "6829    92917                  U         0     unclassified    Release 202\n",
       "     perc_mapped dataset_name  ⋯ systolic_p creatine albumine bilubirin smoker\n",
       "1    62.81       AsnicarF_2017 ⋯ NA         NA       NA       NA        NA    \n",
       "2    91.26       AsnicarF_2017 ⋯ NA         NA       NA       NA        NA    \n",
       "⋮    ⋮           ⋮             ⋱ ⋮          ⋮        ⋮        ⋮         ⋮     \n",
       "6828 60.90       ZeeviD_2015   ⋯ NA         NA       NA       NA        NA    \n",
       "6829 90.71       ZeeviD_2015   ⋯ NA         NA       NA       NA        NA    \n",
       "     ever_smoker birth_control_pil c_peptide insulin_cat westernized\n",
       "1    NA          NA                NA        NA          TRUE       \n",
       "2    NA          NA                NA        NA          TRUE       \n",
       "⋮    ⋮           ⋮                 ⋮         ⋮           ⋮          \n",
       "6828 NA          NA                NA        NA          TRUE       \n",
       "6829 NA          NA                NA        NA          TRUE       "
      ]
     },
     "metadata": {},
     "output_type": "display_data"
    }
   ],
   "source": [
    "overlap(meta$Sample, uncls$sample)\n",
    "uncls = uncls %>%\n",
    "    inner_join.(meta, c('sample'='Sample'))\n",
    "uncls"
   ]
  },
  {
   "cell_type": "code",
   "execution_count": 63,
   "metadata": {
    "ExecuteTime": {
     "end_time": "2021-07-29T06:33:10.678233Z",
     "start_time": "2021-07-29T06:33:10.620Z"
    }
   },
   "outputs": [
    {
     "data": {
      "text/html": [
       "<table class=\"dataframe\">\n",
       "<caption>A matrix: 1 × 8 of type dbl</caption>\n",
       "<thead>\n",
       "\t<tr><th></th><th scope=col>Min.</th><th scope=col>1st Qu.</th><th scope=col>Median</th><th scope=col>Mean</th><th scope=col>3rd Qu.</th><th scope=col>Max.</th><th scope=col>sd</th><th scope=col>sd_err_of_mean</th></tr>\n",
       "</thead>\n",
       "<tbody>\n",
       "\t<tr><th scope=row>.</th><td>12.11</td><td>67.52</td><td>73.64</td><td>73.21318</td><td>79.84</td><td>98.61</td><td>29.184</td><td>11.914</td></tr>\n",
       "</tbody>\n",
       "</table>\n"
      ],
      "text/latex": [
       "A matrix: 1 × 8 of type dbl\n",
       "\\begin{tabular}{r|llllllll}\n",
       "  & Min. & 1st Qu. & Median & Mean & 3rd Qu. & Max. & sd & sd\\_err\\_of\\_mean\\\\\n",
       "\\hline\n",
       "\t. & 12.11 & 67.52 & 73.64 & 73.21318 & 79.84 & 98.61 & 29.184 & 11.914\\\\\n",
       "\\end{tabular}\n"
      ],
      "text/markdown": [
       "\n",
       "A matrix: 1 × 8 of type dbl\n",
       "\n",
       "| <!--/--> | Min. | 1st Qu. | Median | Mean | 3rd Qu. | Max. | sd | sd_err_of_mean |\n",
       "|---|---|---|---|---|---|---|---|---|\n",
       "| . | 12.11 | 67.52 | 73.64 | 73.21318 | 79.84 | 98.61 | 29.184 | 11.914 |\n",
       "\n"
      ],
      "text/plain": [
       "  Min.  1st Qu. Median Mean     3rd Qu. Max.  sd     sd_err_of_mean\n",
       ". 12.11 67.52   73.64  73.21318 79.84   98.61 29.184 11.914        "
      ]
     },
     "metadata": {},
     "output_type": "display_data"
    },
    {
     "data": {
      "text/html": [
       "<table class=\"dataframe\">\n",
       "<caption>A matrix: 1 × 8 of type dbl</caption>\n",
       "<thead>\n",
       "\t<tr><th></th><th scope=col>Min.</th><th scope=col>1st Qu.</th><th scope=col>Median</th><th scope=col>Mean</th><th scope=col>3rd Qu.</th><th scope=col>Max.</th><th scope=col>sd</th><th scope=col>sd_err_of_mean</th></tr>\n",
       "</thead>\n",
       "<tbody>\n",
       "\t<tr><th scope=row>.</th><td>19.19</td><td>85.81</td><td>88.21</td><td>87.47542</td><td>90.3</td><td>99.55</td><td>29.422</td><td>12.011</td></tr>\n",
       "</tbody>\n",
       "</table>\n"
      ],
      "text/latex": [
       "A matrix: 1 × 8 of type dbl\n",
       "\\begin{tabular}{r|llllllll}\n",
       "  & Min. & 1st Qu. & Median & Mean & 3rd Qu. & Max. & sd & sd\\_err\\_of\\_mean\\\\\n",
       "\\hline\n",
       "\t. & 19.19 & 85.81 & 88.21 & 87.47542 & 90.3 & 99.55 & 29.422 & 12.011\\\\\n",
       "\\end{tabular}\n"
      ],
      "text/markdown": [
       "\n",
       "A matrix: 1 × 8 of type dbl\n",
       "\n",
       "| <!--/--> | Min. | 1st Qu. | Median | Mean | 3rd Qu. | Max. | sd | sd_err_of_mean |\n",
       "|---|---|---|---|---|---|---|---|---|\n",
       "| . | 19.19 | 85.81 | 88.21 | 87.47542 | 90.3 | 99.55 | 29.422 | 12.011 |\n",
       "\n"
      ],
      "text/plain": [
       "  Min.  1st Qu. Median Mean     3rd Qu. Max.  sd     sd_err_of_mean\n",
       ". 19.19 85.81   88.21  87.47542 90.3    99.55 29.422 12.011        "
      ]
     },
     "metadata": {},
     "output_type": "display_data"
    }
   ],
   "source": [
    "# distributions\n",
    "uncls %>%\n",
    "    filter.(database == 'Release 86') %>%\n",
    "    .$perc_mapped %>% summary_x\n",
    "uncls %>%\n",
    "    filter.(database == 'Release 202') %>%\n",
    "    .$perc_mapped %>% summary_x"
   ]
  },
  {
   "cell_type": "code",
   "execution_count": 64,
   "metadata": {
    "ExecuteTime": {
     "end_time": "2021-07-29T06:33:12.056971Z",
     "start_time": "2021-07-29T06:33:11.345Z"
    }
   },
   "outputs": [
    {
     "data": {
      "image/png": "[encoded data removed]",
      "text/plain": [
       "plot without title"
      ]
     },
     "metadata": {
      "image/png": {
       "height": 250,
       "width": 400
      }
     },
     "output_type": "display_data"
    }
   ],
   "source": [
    "# summary\n",
    "p = uncls %>%\n",
    "    ggplot(aes(westernized, perc_mapped, color=database)) +\n",
    "    geom_boxplot() +\n",
    "    scale_color_discrete('GTDB release') +\n",
    "    labs(y='% mapped') +\n",
    "    theme_bw()\n",
    "p.dims(4,2.5)\n",
    "plot(p)"
   ]
  },
  {
   "cell_type": "code",
   "execution_count": 65,
   "metadata": {
    "ExecuteTime": {
     "end_time": "2021-07-29T06:33:18.052190Z",
     "start_time": "2021-07-29T06:33:16.922Z"
    }
   },
   "outputs": [
    {
     "data": {
      "image/png": "[encoded data removed]",
      "text/plain": [
       "plot without title"
      ]
     },
     "metadata": {
      "image/png": {
       "height": 250,
       "width": 800
      }
     },
     "output_type": "display_data"
    }
   ],
   "source": [
    "# summary\n",
    "p = uncls %>%\n",
    "    mutate.(westernized = ifelse(westernized==TRUE, 'westernized', 'non-westernized')) %>%\n",
    "    mutate.(median_mapped = median(perc_mapped),\n",
    "            .by=c(country)) %>%\n",
    "    mutate.(country = reorder(country, -median_mapped)) %>%\n",
    "    ggplot(aes(country, perc_mapped, color=database)) +\n",
    "    geom_boxplot(outlier.size=0.8) +\n",
    "    facet_grid(. ~ westernized, scales='free_x', space='free_x') +\n",
    "    scale_color_discrete('GTDB release') +\n",
    "    labs(y='% mapped') +\n",
    "    theme_bw() +\n",
    "    theme(\n",
    "        axis.text.x = element_text(angle=45, hjust=1)\n",
    "    )\n",
    "p.dims(8,2.5)\n",
    "plot(p)"
   ]
  },
  {
   "cell_type": "markdown",
   "metadata": {},
   "source": [
    "# sessionInfo"
   ]
  },
  {
   "cell_type": "code",
   "execution_count": 37,
   "metadata": {
    "ExecuteTime": {
     "end_time": "2021-07-29T06:21:41.095701Z",
     "start_time": "2021-07-29T06:21:40.946Z"
    }
   },
   "outputs": [
    {
     "data": {
      "text/plain": [
       "R version 4.1.0 (2021-05-18)\n",
       "Platform: x86_64-conda-linux-gnu (64-bit)\n",
       "Running under: Ubuntu 18.04.5 LTS\n",
       "\n",
       "Matrix products: default\n",
       "BLAS/LAPACK: /ebio/abt3_projects/Anxiety_Twins_Metagenomes/envs/tidyverse-ecoPhy3/lib/libopenblasp-r0.3.15.so\n",
       "\n",
       "locale:\n",
       " [1] LC_CTYPE=en_US.UTF-8       LC_NUMERIC=C              \n",
       " [3] LC_TIME=en_US.UTF-8        LC_COLLATE=en_US.UTF-8    \n",
       " [5] LC_MONETARY=en_US.UTF-8    LC_MESSAGES=en_US.UTF-8   \n",
       " [7] LC_PAPER=en_US.UTF-8       LC_NAME=C                 \n",
       " [9] LC_ADDRESS=C               LC_TELEPHONE=C            \n",
       "[11] LC_MEASUREMENT=en_US.UTF-8 LC_IDENTIFICATION=C       \n",
       "\n",
       "attached base packages:\n",
       "[1] stats     graphics  grDevices utils     datasets  methods   base     \n",
       "\n",
       "other attached packages:\n",
       "[1] LeyLabRMisc_0.1.9 tidytable_0.6.3   data.table_1.14.0 ggplot2_3.3.5    \n",
       "[5] tidyr_1.1.3       dplyr_1.0.7      \n",
       "\n",
       "loaded via a namespace (and not attached):\n",
       " [1] pillar_1.6.1      compiler_4.1.0    base64enc_0.1-3   tools_4.1.0      \n",
       " [5] digest_0.6.27     uuid_0.1-4        jsonlite_1.7.2    evaluate_0.14    \n",
       " [9] lifecycle_1.0.0   tibble_3.1.3      gtable_0.3.0      pkgconfig_2.0.3  \n",
       "[13] rlang_0.4.11      IRdisplay_1.0     IRkernel_1.2      repr_1.1.3       \n",
       "[17] withr_2.4.2       generics_0.1.0    vctrs_0.3.8       grid_4.1.0       \n",
       "[21] tidyselect_1.1.1  glue_1.4.2        R6_2.5.0          fansi_0.4.2      \n",
       "[25] pbdZMQ_0.3-5      farver_2.1.0      purrr_0.3.4       magrittr_2.0.1   \n",
       "[29] scales_1.1.1      ellipsis_0.3.2    htmltools_0.5.1.1 colorspace_2.0-2 \n",
       "[33] labeling_0.4.2    utf8_1.2.2        munsell_0.5.0     crayon_1.4.1     "
      ]
     },
     "metadata": {},
     "output_type": "display_data"
    }
   ],
   "source": [
    "sessionInfo()"
   ]
  }
 ],
 "metadata": {
  "kernelspec": {
   "display_name": "R [conda env:Anxiety_Twins_Metagenomes-tidyverse-ecoPhy3]",
   "language": "R",
   "name": "conda-env-Anxiety_Twins_Metagenomes-tidyverse-ecoPhy3-r"
  },
  "language_info": {
   "codemirror_mode": "r",
   "file_extension": ".r",
   "mimetype": "text/x-r-source",
   "name": "R",
   "pygments_lexer": "r",
   "version": "4.1.0"
  },
  "notify_time": "30",
  "toc": {
   "base_numbering": 1,
   "nav_menu": {},
   "number_sections": true,
   "sideBar": true,
   "skip_h1_title": false,
   "title_cell": "Table of Contents",
   "title_sidebar": "Contents",
   "toc_cell": true,
   "toc_position": {},
   "toc_section_display": true,
   "toc_window_display": true
  }
 },
 "nbformat": 4,
 "nbformat_minor": 5
}
